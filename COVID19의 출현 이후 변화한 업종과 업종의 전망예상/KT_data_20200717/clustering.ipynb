{
 "cells": [
  {
   "cell_type": "code",
   "execution_count": 1,
   "metadata": {},
   "outputs": [],
   "source": [
    "import warnings\n",
    "warnings.filterwarnings(\"ignore\")\n",
    "\n",
    "import matplotlib.pyplot as plt\n",
    "import matplotlib.dates as mdates\n",
    "import numpy as np\n",
    "import pandas as pd\n",
    "import seaborn as sns\n",
    "import math\n",
    "from datetime import date, timedelta\n",
    "\n",
    "%matplotlib inline\n",
    "from matplotlib import font_manager, rc"
   ]
  },
  {
   "cell_type": "code",
   "execution_count": null,
   "metadata": {},
   "outputs": [],
   "source": [
    "card = pd.read_csv('KT_data_20200703/card.csv')\n",
    "card = card[['receipt_dttm', 'adstrd_nm', 'mrhst_induty_cl_nm', 'selng_cascnt', 'salamt']]\n",
    "card = card[card['selng_cascnt'].apply(lambda x: x.isnumeric())]\n",
    "card = card[card['salamt'].apply(lambda x: x.isnumeric())]\n",
    "card['selng_cascnt'] = card['selng_cascnt'].astype(int)\n",
    "card['salamt'] = card['salamt'].astype(int)\n",
    "card['receipt_dttm'] = card['receipt_dttm'].astype(str)\n",
    "\n",
    "# 일별, 업종별 카드사용금액\n",
    "day = card.groupby(['receipt_dttm','mrhst_induty_cl_nm'])['salamt'].sum().reset_index()\n",
    "daily_sale_amount = day.pivot(index='mrhst_induty_cl_nm', columns='receipt_dttm', values='salamt')\n",
    "\n",
    "for index, row in daily_sale_amount.iterrows():\n",
    "    max_salamt = 0\n",
    "    for col in daily_sale_amount.columns:\n",
    "        if daily_sale_amount.loc[index,col] < 0 or math.isnan(daily_sale_amount.loc[index, col]):\n",
    "            daily_sale_amount.loc[index, col] = 0\n",
    "        if row.loc[col] > max_salamt:\n",
    "            max_salamt = float(daily_sale_amount.loc[index, col])\n",
    "\n",
    "    # Normalized by the max sale amount\n",
    "    for col in daily_sale_amount.columns:\n",
    "        if max_salamt != 0:\n",
    "            daily_sale_amount.loc[index, col] = float(daily_sale_amount.loc[index, col]) / float(max_salamt)\n",
    "        if max_salamt == 0:  # All salamts are negative or nan values\n",
    "            daily_sale_amount.loc[index, col] = 0"
   ]
  },
  {
   "cell_type": "code",
   "execution_count": null,
   "metadata": {},
   "outputs": [],
   "source": [
    "clustergrid = sns.clustermap(daily_sale_amount, col_cluster=False, cmap='Blues', figsize=(12, 14));\n",
    "\n",
    "# Clustering 결과 확인 후 Cluster를 네모 박스로 표시\n",
    "sub_clusters = []\n",
    "sub_clusters.append(('국산 신차', '홍삼 제품', 'r'))\n",
    "sub_clusters.append(('초중고교육기관', '카지노', 'r'))\n",
    "sub_clusters.append(('유흥주점', '사진관', 'r'))\n",
    "sub_clusters.append(('한의원', '화물 운송', 'r'))\n",
    "sub_clusters.append(('대형할인점', '한정식', 'r'))\n",
    "sub_clusters.append(('중고자동차', '화방표구점', 'r'))\n",
    "\n",
    "ax = clustergrid.ax_heatmap\n",
    "xmax = len(daily_sale_amount.axes[1])\n",
    "rows = list(daily_sale_amount.axes[0])\n",
    "reordered_row = [rows[x] for x in clustergrid.dendrogram_row.reordered_ind]\n",
    "\n",
    "for start, end, color in sub_clusters:\n",
    "    # vertical lines\n",
    "    ax.plot([0, 0], [reordered_row.index(start), reordered_row.index(end)+1], color, lw = 2.5)\n",
    "    ax.plot([xmax-.1, xmax-.1], [reordered_row.index(start), reordered_row.index(end)+1], color, lw = 2.5)\n",
    "    # horizontal lines\n",
    "    ax.plot([0, xmax-.1], [reordered_row.index(start), reordered_row.index(start)], color, lw = 2.5)\n",
    "    ax.plot([0, xmax-.1], [reordered_row.index(end)+1, reordered_row.index(end)+1], color, lw = 2.5)\n",
    "ax.set_xlabel(\"날짜\", fontsize=13);\n",
    "ax.set_ylabel(\"업종\", fontsize=13);\n",
    "plt.ylabel('최고 소비금액 대비 비율');"
   ]
  }
 ],
 "metadata": {
  "kernelspec": {
   "display_name": "Python 3",
   "language": "python",
   "name": "python3"
  },
  "language_info": {
   "codemirror_mode": {
    "name": "ipython",
    "version": 3
   },
   "file_extension": ".py",
   "mimetype": "text/x-python",
   "name": "python",
   "nbconvert_exporter": "python",
   "pygments_lexer": "ipython3",
   "version": "3.7.7"
  }
 },
 "nbformat": 4,
 "nbformat_minor": 4
}
